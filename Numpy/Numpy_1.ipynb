{
  "nbformat": 4,
  "nbformat_minor": 0,
  "metadata": {
    "colab": {
      "provenance": [],
      "authorship_tag": "ABX9TyMkA46AYT0qn3PrL3m61I27",
      "include_colab_link": true
    },
    "kernelspec": {
      "name": "python3",
      "display_name": "Python 3"
    },
    "language_info": {
      "name": "python"
    }
  },
  "cells": [
    {
      "cell_type": "markdown",
      "metadata": {
        "id": "view-in-github",
        "colab_type": "text"
      },
      "source": [
        "<a href=\"https://colab.research.google.com/github/Tarun7386/DataScienceToolkit/blob/main/Numpy/Numpy_1.ipynb\" target=\"_parent\"><img src=\"https://colab.research.google.com/assets/colab-badge.svg\" alt=\"Open In Colab\"/></a>"
      ]
    },
    {
      "cell_type": "code",
      "source": [
        "import numpy as np"
      ],
      "metadata": {
        "id": "JGWBoUKNSAi9"
      },
      "execution_count": null,
      "outputs": []
    },
    {
      "cell_type": "code",
      "source": [
        "name = ['Alice', 'Bob', 'Cathy', 'Doug']\n",
        "age = [25, 45, 37, 19]\n",
        "weight = [55.0, 85.5, 68.0, 61.5]"
      ],
      "metadata": {
        "id": "LFY9Pt4wT_gV"
      },
      "execution_count": null,
      "outputs": []
    },
    {
      "cell_type": "code",
      "execution_count": null,
      "metadata": {
        "id": "1C4FP1lVQ-Uz"
      },
      "outputs": [],
      "source": [
        "dtype=np.dtype({'names':('name', 'age', 'weight'),\n",
        "'formats':('U10', 'i4', 'f8')})"
      ]
    },
    {
      "cell_type": "code",
      "source": [
        "data = np.array([('Alice',25,55.0),('Bob',45,85.5),('Cathy',37,68.0),('Doug',19,61.5)], dtype=dtype)\n",
        "print(data)"
      ],
      "metadata": {
        "colab": {
          "base_uri": "https://localhost:8080/"
        },
        "id": "1RXiQ_OKTyXi",
        "outputId": "0b4c30f6-64ae-4870-aade-ee9ec8783c52"
      },
      "execution_count": null,
      "outputs": [
        {
          "output_type": "stream",
          "name": "stdout",
          "text": [
            "[('Alice', 25, 55. ) ('Bob', 45, 85.5) ('Cathy', 37, 68. )\n",
            " ('Doug', 19, 61.5)]\n"
          ]
        }
      ]
    },
    {
      "cell_type": "code",
      "source": [
        "data_record=data.view(np.recarray)\n",
        "data_record.age"
      ],
      "metadata": {
        "colab": {
          "base_uri": "https://localhost:8080/"
        },
        "id": "OIJQubOsTSYY",
        "outputId": "8878a42d-31b5-4c14-8345-64b28e0f963c"
      },
      "execution_count": null,
      "outputs": [
        {
          "output_type": "execute_result",
          "data": {
            "text/plain": [
              "array([25, 45, 37, 19], dtype=int32)"
            ]
          },
          "metadata": {},
          "execution_count": 21
        }
      ]
    },
    {
      "cell_type": "markdown",
      "source": [
        "# **Sorting**"
      ],
      "metadata": {
        "id": "Mb8-Z7vlWxfE"
      }
    },
    {
      "cell_type": "code",
      "source": [
        "x = np.array([2, 1, 4, 3, 5])\n",
        "np.sort(x)"
      ],
      "metadata": {
        "colab": {
          "base_uri": "https://localhost:8080/"
        },
        "id": "9DGIwSJpWzoc",
        "outputId": "c3521147-efa4-4908-acb7-eb322039e8f1"
      },
      "execution_count": null,
      "outputs": [
        {
          "output_type": "execute_result",
          "data": {
            "text/plain": [
              "array([1, 2, 3, 4, 5])"
            ]
          },
          "metadata": {},
          "execution_count": 22
        }
      ]
    },
    {
      "cell_type": "code",
      "source": [
        "x.sort()\n",
        "print(x)"
      ],
      "metadata": {
        "colab": {
          "base_uri": "https://localhost:8080/"
        },
        "id": "ZMZLHlIrW2-1",
        "outputId": "68d9b2e8-e47c-44d9-a3d4-149a67aeca5a"
      },
      "execution_count": null,
      "outputs": [
        {
          "output_type": "stream",
          "name": "stdout",
          "text": [
            "[1 2 3 4 5]\n"
          ]
        }
      ]
    },
    {
      "cell_type": "code",
      "source": [
        "x = np.array([2, 1, 4, 3, 5])\n",
        "i = np.argsort(x)\n",
        "print(i)"
      ],
      "metadata": {
        "colab": {
          "base_uri": "https://localhost:8080/"
        },
        "id": "AcLygaF3W8Mw",
        "outputId": "e23fca5a-a227-42a1-e7f3-d10b5a82c15b"
      },
      "execution_count": null,
      "outputs": [
        {
          "output_type": "stream",
          "name": "stdout",
          "text": [
            "[1 0 3 2 4]\n"
          ]
        }
      ]
    },
    {
      "cell_type": "code",
      "source": [
        "np.random.seed(42)\n",
        "X = np.random.randint(0, 10, (4, 6))\n",
        "print(X)"
      ],
      "metadata": {
        "colab": {
          "base_uri": "https://localhost:8080/"
        },
        "id": "FjXos9XbXYH7",
        "outputId": "6ece4d72-69b0-494d-ccdc-714fd830a5e9"
      },
      "execution_count": null,
      "outputs": [
        {
          "output_type": "stream",
          "name": "stdout",
          "text": [
            "[[6 3 7 4 6 9]\n",
            " [2 6 7 4 3 7]\n",
            " [7 2 5 4 1 7]\n",
            " [5 1 4 0 9 5]]\n"
          ]
        }
      ]
    },
    {
      "cell_type": "code",
      "source": [
        "np.sort(X, axis=0)"
      ],
      "metadata": {
        "colab": {
          "base_uri": "https://localhost:8080/"
        },
        "id": "AE46gPfhXhog",
        "outputId": "87593707-cbd0-484e-f0cb-030711733a11"
      },
      "execution_count": null,
      "outputs": [
        {
          "output_type": "execute_result",
          "data": {
            "text/plain": [
              "array([[2, 1, 4, 0, 1, 5],\n",
              "       [5, 2, 5, 4, 3, 7],\n",
              "       [6, 3, 7, 4, 6, 7],\n",
              "       [7, 6, 7, 4, 9, 9]])"
            ]
          },
          "metadata": {},
          "execution_count": 34
        }
      ]
    },
    {
      "cell_type": "code",
      "source": [
        "np.sort(X, axis=1)"
      ],
      "metadata": {
        "colab": {
          "base_uri": "https://localhost:8080/"
        },
        "id": "fxaw3idWXjfd",
        "outputId": "f616857d-56b2-4897-ea3a-bd25813e8ebe"
      },
      "execution_count": null,
      "outputs": [
        {
          "output_type": "execute_result",
          "data": {
            "text/plain": [
              "array([[3, 4, 6, 6, 7, 9],\n",
              "       [2, 3, 4, 6, 7, 7],\n",
              "       [1, 2, 4, 5, 7, 7],\n",
              "       [0, 1, 4, 5, 5, 9]])"
            ]
          },
          "metadata": {},
          "execution_count": 35
        }
      ]
    },
    {
      "cell_type": "markdown",
      "source": [
        "# **Partial Sorts: Partitioning**"
      ],
      "metadata": {
        "id": "Zk-8pFBMYnwS"
      }
    },
    {
      "cell_type": "code",
      "source": [
        "x = np.array([7, 2, 3, 1, 6, 5, 4])\n",
        "np.partition(x, 3)"
      ],
      "metadata": {
        "colab": {
          "base_uri": "https://localhost:8080/"
        },
        "id": "acMlQfKPYmMT",
        "outputId": "aade3ee5-8596-4f4f-b6cf-d4915d4b286e"
      },
      "execution_count": null,
      "outputs": [
        {
          "output_type": "execute_result",
          "data": {
            "text/plain": [
              "array([2, 1, 3, 4, 6, 5, 7])"
            ]
          },
          "metadata": {},
          "execution_count": 36
        }
      ]
    },
    {
      "cell_type": "code",
      "source": [
        "np.partition(X, 4, axis=1)"
      ],
      "metadata": {
        "colab": {
          "base_uri": "https://localhost:8080/"
        },
        "id": "t3-BAbvrYx1S",
        "outputId": "037365b9-654b-4105-a08a-cd965080f69d"
      },
      "execution_count": null,
      "outputs": [
        {
          "output_type": "execute_result",
          "data": {
            "text/plain": [
              "array([[6, 6, 3, 4, 7, 9],\n",
              "       [3, 2, 6, 4, 7, 7],\n",
              "       [1, 5, 2, 4, 7, 7],\n",
              "       [0, 4, 1, 5, 5, 9]])"
            ]
          },
          "metadata": {},
          "execution_count": 38
        }
      ]
    },
    {
      "cell_type": "markdown",
      "source": [
        "# **Fancy Indexing**"
      ],
      "metadata": {
        "id": "mecqLAYwZKsw"
      }
    },
    {
      "cell_type": "code",
      "source": [
        "rand = np.random.RandomState(42)\n",
        "x = rand.randint(100, size=10)\n",
        "print(x)"
      ],
      "metadata": {
        "colab": {
          "base_uri": "https://localhost:8080/"
        },
        "id": "DRR8ENbCZOtw",
        "outputId": "825c0a13-1b31-41cb-e29f-0a2b1feaa643"
      },
      "execution_count": null,
      "outputs": [
        {
          "output_type": "stream",
          "name": "stdout",
          "text": [
            "[51 92 14 71 60 20 82 86 74 74]\n"
          ]
        }
      ]
    },
    {
      "cell_type": "code",
      "source": [
        "[x[3], x[7], x[2]]"
      ],
      "metadata": {
        "colab": {
          "base_uri": "https://localhost:8080/"
        },
        "id": "DYKskonqZg1v",
        "outputId": "7dff3ddf-f0af-4d6d-9e6e-570926e8ebbb"
      },
      "execution_count": null,
      "outputs": [
        {
          "output_type": "execute_result",
          "data": {
            "text/plain": [
              "[71, 86, 14]"
            ]
          },
          "metadata": {},
          "execution_count": 40
        }
      ]
    },
    {
      "cell_type": "code",
      "source": [
        "ind = [3, 7, 4]\n",
        "x[ind]"
      ],
      "metadata": {
        "colab": {
          "base_uri": "https://localhost:8080/"
        },
        "id": "KtCFydoaZlWs",
        "outputId": "c4833eff-abca-4750-f2f2-a0bcb5b11c15"
      },
      "execution_count": null,
      "outputs": [
        {
          "output_type": "execute_result",
          "data": {
            "text/plain": [
              "array([71, 86, 60])"
            ]
          },
          "metadata": {},
          "execution_count": 41
        }
      ]
    },
    {
      "cell_type": "code",
      "source": [
        "X = np.arange(12).reshape((3, 4))\n",
        "X"
      ],
      "metadata": {
        "colab": {
          "base_uri": "https://localhost:8080/"
        },
        "id": "Ep3ig7gaaQJm",
        "outputId": "6e9c0ebd-29ea-4d7c-ae67-a2854a634d2d"
      },
      "execution_count": null,
      "outputs": [
        {
          "output_type": "execute_result",
          "data": {
            "text/plain": [
              "array([[ 0,  1,  2,  3],\n",
              "       [ 4,  5,  6,  7],\n",
              "       [ 8,  9, 10, 11]])"
            ]
          },
          "metadata": {},
          "execution_count": 43
        }
      ]
    },
    {
      "cell_type": "code",
      "source": [
        "X[2, [2, 0, 1]]"
      ],
      "metadata": {
        "colab": {
          "base_uri": "https://localhost:8080/"
        },
        "id": "0dDyiNUsbXwK",
        "outputId": "d3df70f6-1ceb-4e12-c97c-768c19b9773f"
      },
      "execution_count": null,
      "outputs": [
        {
          "output_type": "execute_result",
          "data": {
            "text/plain": [
              "array([10,  8,  9])"
            ]
          },
          "metadata": {},
          "execution_count": 47
        }
      ]
    },
    {
      "cell_type": "code",
      "source": [
        "row = np.array([0, 1, 2])\n",
        "col = np.array([2, 1, 3])\n",
        "X[row, col]"
      ],
      "metadata": {
        "colab": {
          "base_uri": "https://localhost:8080/"
        },
        "id": "ezYccpsFaRxI",
        "outputId": "7ab91115-4da8-4411-e0d7-257b6e8480ba"
      },
      "execution_count": null,
      "outputs": [
        {
          "output_type": "execute_result",
          "data": {
            "text/plain": [
              "array([ 2,  5, 11])"
            ]
          },
          "metadata": {},
          "execution_count": 45
        }
      ]
    },
    {
      "cell_type": "code",
      "source": [
        "x = np.arange(10)\n",
        "i = np.array([2, 1, 8, 4])\n",
        "x[i] = 99\n",
        "print(x)"
      ],
      "metadata": {
        "colab": {
          "base_uri": "https://localhost:8080/"
        },
        "id": "yO6I4eVrgydu",
        "outputId": "4d3ad610-07aa-45e2-c54b-d6717dcb239b"
      },
      "execution_count": null,
      "outputs": [
        {
          "output_type": "stream",
          "name": "stdout",
          "text": [
            "[ 0 99 99  3 99  5  6  7 99  9]\n"
          ]
        }
      ]
    },
    {
      "cell_type": "markdown",
      "source": [
        "Masking"
      ],
      "metadata": {
        "id": "s2LhrBdZhfXk"
      }
    },
    {
      "cell_type": "code",
      "source": [
        "import numpy as np\n",
        "\n",
        "# Set the random seed for NumPy\n",
        "np.random.seed(42)\n",
        "\n",
        "# Generate a 4x6 array with random integers between 0 and 10\n",
        "X = np.random.randint(0, 10, (4, 6))\n",
        "\n",
        "# Print the generated array\n",
        "print(\"Array X:\")\n",
        "print(X)\n",
        "\n",
        "# Create a mask for elements greater than 5\n",
        "mask = X > 5\n",
        "\n",
        "# Print the mask\n",
        "print(\"\\nMask (X > 5):\")\n",
        "print(mask)\n",
        "\n",
        "# Use the mask to extract elements that satisfy the condition\n",
        "masked_elements = X[mask]\n",
        "\n",
        "# Print the elements that satisfy the condition\n",
        "print(\"\\nElements greater than 5:\")\n",
        "print(masked_elements)\n"
      ],
      "metadata": {
        "colab": {
          "base_uri": "https://localhost:8080/"
        },
        "id": "ScfGs0pKhgmc",
        "outputId": "755aa801-3d39-45c0-cba3-1cab0d48edde"
      },
      "execution_count": null,
      "outputs": [
        {
          "output_type": "stream",
          "name": "stdout",
          "text": [
            "Array X:\n",
            "[[6 3 7 4 6 9]\n",
            " [2 6 7 4 3 7]\n",
            " [7 2 5 4 1 7]\n",
            " [5 1 4 0 9 5]]\n",
            "\n",
            "Mask (X > 5):\n",
            "[[ True False  True False  True  True]\n",
            " [False  True  True False False  True]\n",
            " [ True False False False False  True]\n",
            " [False False False False  True False]]\n",
            "\n",
            "Elements greater than 5:\n",
            "[6 7 6 9 6 7 7 7 7 9]\n"
          ]
        }
      ]
    },
    {
      "cell_type": "markdown",
      "source": [
        "# **Computation on Arrays: Broadcasting**"
      ],
      "metadata": {
        "id": "NcsL5Y-HiHuC"
      }
    },
    {
      "cell_type": "markdown",
      "source": [
        "Rules of Broadcasting\n",
        "Broadcasting in NumPy follows a strict set of rules to determine the interaction\n",
        "between the two arrays:\n",
        "* Rule 1: If the two arrays differ in their number of dimensions, the shape of the\n",
        "one with fewer dimensions is padded with ones on its leading (left) side.\n",
        "* Rule 2: If the shape of the two arrays does not match in any dimension, the array\n",
        "with shape equal to 1 in that dimension is stretched to match the other shape.\n",
        "*Rule 3: If in any dimension the sizes disagree and neither is equal to 1, an error is\n",
        "raised."
      ],
      "metadata": {
        "id": "fjOwO4shiYYq"
      }
    },
    {
      "cell_type": "code",
      "source": [
        "M = np.ones((2, 3))\n",
        "a = np.arange(3)\n",
        "print(M.shape)\n",
        "print(a.shape)"
      ],
      "metadata": {
        "colab": {
          "base_uri": "https://localhost:8080/"
        },
        "id": "B0ol4ysxiJ5M",
        "outputId": "5bcb9209-2193-456f-991c-7279cc58d2ad"
      },
      "execution_count": null,
      "outputs": [
        {
          "output_type": "stream",
          "name": "stdout",
          "text": [
            "(2, 3)\n",
            "(3,)\n"
          ]
        }
      ]
    },
    {
      "cell_type": "code",
      "source": [
        "(M+a).shape # rule 2"
      ],
      "metadata": {
        "colab": {
          "base_uri": "https://localhost:8080/"
        },
        "id": "CNtkP5NCjc4u",
        "outputId": "27f327a9-6d11-4629-edb7-6f891816e792"
      },
      "execution_count": null,
      "outputs": [
        {
          "output_type": "execute_result",
          "data": {
            "text/plain": [
              "(2, 3)"
            ]
          },
          "metadata": {},
          "execution_count": 70
        }
      ]
    },
    {
      "cell_type": "markdown",
      "source": [
        "M.shape -> (2, 3)\n",
        "a.shape -> (1, 3)"
      ],
      "metadata": {
        "id": "1wJmEW6Mi8YV"
      }
    },
    {
      "cell_type": "markdown",
      "source": [
        "M.shape -> (2, 3)\n",
        "a.shape -> (2, 3)"
      ],
      "metadata": {
        "id": "UsaC315JjY3f"
      }
    },
    {
      "cell_type": "code",
      "source": [
        "c = np.arange(3).reshape((3, 1))\n",
        "b = np.arange(3)\n",
        "c.shape,b.shape"
      ],
      "metadata": {
        "colab": {
          "base_uri": "https://localhost:8080/"
        },
        "id": "c3RHd64xi9BH",
        "outputId": "0e4c5aac-a73b-47d1-9e7c-a8c39e1e8c68"
      },
      "execution_count": null,
      "outputs": [
        {
          "output_type": "execute_result",
          "data": {
            "text/plain": [
              "((3, 1), (3,))"
            ]
          },
          "metadata": {},
          "execution_count": 69
        }
      ]
    },
    {
      "cell_type": "code",
      "source": [
        "(c+b).shape"
      ],
      "metadata": {
        "colab": {
          "base_uri": "https://localhost:8080/"
        },
        "id": "iNs6jk1Ej6jz",
        "outputId": "147491f7-2e4e-4729-9f9e-b45db03032fa"
      },
      "execution_count": null,
      "outputs": [
        {
          "output_type": "execute_result",
          "data": {
            "text/plain": [
              "(3, 3)"
            ]
          },
          "metadata": {},
          "execution_count": 72
        }
      ]
    }
  ]
}