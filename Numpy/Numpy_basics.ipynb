{
  "nbformat": 4,
  "nbformat_minor": 0,
  "metadata": {
    "colab": {
      "provenance": [],
      "authorship_tag": "ABX9TyMabkXo8yRmFBFy/tgjHDPU",
      "include_colab_link": true
    },
    "kernelspec": {
      "name": "python3",
      "display_name": "Python 3"
    },
    "language_info": {
      "name": "python"
    }
  },
  "cells": [
    {
      "cell_type": "markdown",
      "metadata": {
        "id": "view-in-github",
        "colab_type": "text"
      },
      "source": [
        "<a href=\"https://colab.research.google.com/github/Tarun7386/DataScienceToolkit/blob/main/Numpy/Numpy_basics.ipynb\" target=\"_parent\"><img src=\"https://colab.research.google.com/assets/colab-badge.svg\" alt=\"Open In Colab\"/></a>"
      ]
    },
    {
      "cell_type": "markdown",
      "source": [
        "#Numpy"
      ],
      "metadata": {
        "id": "bvSu1TT5SJlY"
      }
    },
    {
      "cell_type": "code",
      "execution_count": null,
      "metadata": {
        "colab": {
          "base_uri": "https://localhost:8080/",
          "height": 36
        },
        "id": "oPpa28afR6Qx",
        "outputId": "05aff073-1160-4bf2-9934-e9e81e4555b0"
      },
      "outputs": [
        {
          "output_type": "execute_result",
          "data": {
            "text/plain": [
              "'1.25.2'"
            ],
            "application/vnd.google.colaboratory.intrinsic+json": {
              "type": "string"
            }
          },
          "metadata": {},
          "execution_count": 2
        }
      ],
      "source": [
        "# https://numpy.org/\n",
        "import numpy as np\n",
        "np.__version__"
      ]
    },
    {
      "cell_type": "code",
      "source": [
        "import numpy as np\n",
        "arr=np.array([1,7,3,4,5])\n",
        "arr"
      ],
      "metadata": {
        "colab": {
          "base_uri": "https://localhost:8080/"
        },
        "id": "Q7ZxXO7fSoVX",
        "outputId": "cb1a5456-81eb-4663-a7fe-030b998b05fc"
      },
      "execution_count": null,
      "outputs": [
        {
          "output_type": "execute_result",
          "data": {
            "text/plain": [
              "array([1, 7, 3, 4, 5])"
            ]
          },
          "metadata": {},
          "execution_count": 4
        }
      ]
    },
    {
      "cell_type": "markdown",
      "source": [
        "***Difference between numpy array and list***\n",
        "\n",
        "- Data type should be same of all the elements in a numpy array whereas it can be different in case of lists.\n",
        "- **Broadcasting:** https://docs.scipy.org/doc/numpy/user/basics.broadcasting.html"
      ],
      "metadata": {
        "id": "_OWu9W7mS8cD"
      }
    },
    {
      "cell_type": "code",
      "source": [
        "np.broadcast\n",
        "a = np.array([1.0, 2.0, 3.0])\n",
        "b = 2.0\n",
        "print(a * b)\n",
        "a = np.array([[ 0.0,  0.0,  0.0],\n",
        "              [10.0, 10.0, 10.0],\n",
        "              [20.0, 20.0, 20.0],\n",
        "              [30.0, 30.0, 30.0]])\n",
        "b = np.array([1.0, 2.0, 3.0])\n",
        "print(a + b)\n",
        "b = np.array([1.0, 2.0, 3.0, 4.0])\n",
        "# a + b gets error"
      ],
      "metadata": {
        "colab": {
          "base_uri": "https://localhost:8080/"
        },
        "id": "2JjUfQDoVw9I",
        "outputId": "2c19878a-e2ee-40e3-b5eb-f4fd0e7c72a5"
      },
      "execution_count": null,
      "outputs": [
        {
          "output_type": "stream",
          "name": "stdout",
          "text": [
            "[2. 4. 6.]\n",
            "[[ 1.  2.  3.]\n",
            " [11. 12. 13.]\n",
            " [21. 22. 23.]\n",
            " [31. 32. 33.]]\n"
          ]
        }
      ]
    },
    {
      "cell_type": "markdown",
      "source": [
        "**If we add an element of string data type in a numpy array then it will upcast the data type to string of all the elements.**"
      ],
      "metadata": {
        "id": "0KshFvdJX-w8"
      }
    },
    {
      "cell_type": "code",
      "source": [
        "print(np.array([1, 4, 2, '5', 3, False]))\n",
        "print(np.array([1, 4, 2,  3, False]))"
      ],
      "metadata": {
        "colab": {
          "base_uri": "https://localhost:8080/"
        },
        "id": "P-OGcmD7XoRM",
        "outputId": "82b4b210-a5cc-4a0e-b93c-1a5e1d2d8770"
      },
      "execution_count": null,
      "outputs": [
        {
          "output_type": "stream",
          "name": "stdout",
          "text": [
            "['1' '4' '2' '5' '3' 'False']\n",
            "[1 4 2 3 0]\n"
          ]
        }
      ]
    },
    {
      "cell_type": "code",
      "source": [
        "a = [[1,2,3],\n",
        "    [4,5,6],\n",
        "    [7,8,9]]\n",
        "b = np.array(a)\n",
        "print(\"matrix\")\n",
        "print(b)\n",
        "print(\"array :\",a)"
      ],
      "metadata": {
        "colab": {
          "base_uri": "https://localhost:8080/"
        },
        "id": "NHuFRXWeYzOy",
        "outputId": "75b0499f-332e-43a6-f2df-1cc1cda85b63"
      },
      "execution_count": null,
      "outputs": [
        {
          "output_type": "stream",
          "name": "stdout",
          "text": [
            "matrix\n",
            "[[1 2 3]\n",
            " [4 5 6]\n",
            " [7 8 9]]\n",
            "array : [[1, 2, 3], [4, 5, 6], [7, 8, 9]]\n"
          ]
        }
      ]
    },
    {
      "cell_type": "code",
      "source": [
        "a=np.random.randint(0, 10, (3, 3))\n",
        "np.random.seed(0) # seed for reproducibility i.e. Same values will be generated\n",
        "print(a)"
      ],
      "metadata": {
        "colab": {
          "base_uri": "https://localhost:8080/"
        },
        "id": "Pw1ytxVvZbR4",
        "outputId": "ca7c0937-1ddc-425e-ef6c-c7ff0ebbf10e"
      },
      "execution_count": null,
      "outputs": [
        {
          "output_type": "stream",
          "name": "stdout",
          "text": [
            "[[5 0 3]\n",
            " [3 7 9]\n",
            " [3 5 2]]\n"
          ]
        }
      ]
    },
    {
      "cell_type": "markdown",
      "source": [
        "***Create a matrix of `Zeros` & `Ones` of specific dimension.***"
      ],
      "metadata": {
        "id": "mBMsYLvSf9So"
      }
    },
    {
      "cell_type": "code",
      "source": [
        "a=np.zeros(5,dtype=int)\n",
        "print(a)\n",
        "b=np.zeros((3,3),dtype=float)\n",
        "b"
      ],
      "metadata": {
        "colab": {
          "base_uri": "https://localhost:8080/"
        },
        "id": "VldcgF7RbddD",
        "outputId": "29369714-7d0b-4c44-99fe-d70d85903fa6"
      },
      "execution_count": null,
      "outputs": [
        {
          "output_type": "stream",
          "name": "stdout",
          "text": [
            "[0 0 0 0 0]\n"
          ]
        },
        {
          "output_type": "execute_result",
          "data": {
            "text/plain": [
              "array([[0., 0., 0.],\n",
              "       [0., 0., 0.],\n",
              "       [0., 0., 0.]])"
            ]
          },
          "metadata": {},
          "execution_count": 73
        }
      ]
    },
    {
      "cell_type": "code",
      "source": [
        "c=np.ones((3,4),dtype=int)\n",
        "c"
      ],
      "metadata": {
        "colab": {
          "base_uri": "https://localhost:8080/"
        },
        "id": "44xWWe-rbjw9",
        "outputId": "725c32aa-4d0f-4917-ecb8-c7cff0414961"
      },
      "execution_count": null,
      "outputs": [
        {
          "output_type": "execute_result",
          "data": {
            "text/plain": [
              "array([[1, 1, 1, 1],\n",
              "       [1, 1, 1, 1],\n",
              "       [1, 1, 1, 1]])"
            ]
          },
          "metadata": {},
          "execution_count": 74
        }
      ]
    },
    {
      "cell_type": "code",
      "source": [
        "np.identity(3, dtype=int) # np.eye(3,dtype=int)\n",
        "#np.empty(3)"
      ],
      "metadata": {
        "colab": {
          "base_uri": "https://localhost:8080/"
        },
        "id": "A-R6IGZ4hAa7",
        "outputId": "77a07566-e1c1-4014-e789-58b269432bfe"
      },
      "execution_count": null,
      "outputs": [
        {
          "output_type": "execute_result",
          "data": {
            "text/plain": [
              "array([[1, 0, 0],\n",
              "       [0, 1, 0],\n",
              "       [0, 0, 1]])"
            ]
          },
          "metadata": {},
          "execution_count": 103
        }
      ]
    },
    {
      "cell_type": "code",
      "source": [
        "a=np.full((3,3), 3)\n",
        "b=np.full((3,3),70)\n",
        "b"
      ],
      "metadata": {
        "colab": {
          "base_uri": "https://localhost:8080/"
        },
        "id": "AofH6AdLhLG8",
        "outputId": "ccd2a1fa-2ecc-4578-e92a-09bb787cacab"
      },
      "execution_count": null,
      "outputs": [
        {
          "output_type": "execute_result",
          "data": {
            "text/plain": [
              "array([[70, 70, 70],\n",
              "       [70, 70, 70],\n",
              "       [70, 70, 70]])"
            ]
          },
          "metadata": {},
          "execution_count": 87
        }
      ]
    },
    {
      "cell_type": "markdown",
      "source": [
        "\n",
        "\n",
        "---\n",
        "***Array Concatenation :***\n",
        "\n",
        "---"
      ],
      "metadata": {
        "id": "pAdsH2HqhstH"
      }
    },
    {
      "cell_type": "code",
      "source": [
        "d=np.concatenate([a,b],axis=0) # Concatenate Row wise\n",
        "e=np.concatenate([a,b],axis=1) # Concatenate coloumn wise\n",
        "d,e"
      ],
      "metadata": {
        "colab": {
          "base_uri": "https://localhost:8080/"
        },
        "id": "aRP40PtlhkuS",
        "outputId": "6679c64a-37ee-494c-9acb-6fbcffe9f211"
      },
      "execution_count": null,
      "outputs": [
        {
          "output_type": "execute_result",
          "data": {
            "text/plain": [
              "(array([[ 3,  3,  3],\n",
              "        [ 3,  3,  3],\n",
              "        [ 3,  3,  3],\n",
              "        [70, 70, 70],\n",
              "        [70, 70, 70],\n",
              "        [70, 70, 70]]),\n",
              " array([[ 3,  3,  3, 70, 70, 70],\n",
              "        [ 3,  3,  3, 70, 70, 70],\n",
              "        [ 3,  3,  3, 70, 70, 70]]))"
            ]
          },
          "metadata": {},
          "execution_count": 90
        }
      ]
    },
    {
      "cell_type": "markdown",
      "source": [
        " https://numpy.org/doc/1.17/user/index.html\n"
      ],
      "metadata": {
        "id": "3kSg-723kY67"
      }
    },
    {
      "cell_type": "code",
      "source": [
        "np.arange(0, 20, 2)"
      ],
      "metadata": {
        "id": "-gXrUHLpj32_",
        "colab": {
          "base_uri": "https://localhost:8080/"
        },
        "outputId": "66011312-38bb-40b4-ad5b-5c524502aa19"
      },
      "execution_count": null,
      "outputs": [
        {
          "output_type": "execute_result",
          "data": {
            "text/plain": [
              "array([ 0,  2,  4,  6,  8, 10, 12, 14, 16, 18])"
            ]
          },
          "metadata": {},
          "execution_count": 92
        }
      ]
    },
    {
      "cell_type": "code",
      "source": [
        "np.linspace(0, 1, 5)"
      ],
      "metadata": {
        "colab": {
          "base_uri": "https://localhost:8080/"
        },
        "id": "eWM36jiUm8a_",
        "outputId": "16921358-7c54-4718-98b7-9de088209a13"
      },
      "execution_count": null,
      "outputs": [
        {
          "output_type": "execute_result",
          "data": {
            "text/plain": [
              "array([0.  , 0.25, 0.5 , 0.75, 1.  ])"
            ]
          },
          "metadata": {},
          "execution_count": 102
        }
      ]
    },
    {
      "cell_type": "markdown",
      "source": [
        "| Data type\t    | Description |\n",
        "|---------------|-------------|\n",
        "| ``bool_``     | Boolean (True or False) stored as a byte |\n",
        "| ``int_``      | Default integer type (same as C ``long``; normally either ``int64`` or ``int32``)|\n",
        "| ``intc``      | Identical to C ``int`` (normally ``int32`` or ``int64``)|\n",
        "| ``intp``      | Integer used for indexing (same as C ``ssize_t``; normally either ``int32`` or ``int64``)|\n",
        "| ``int8``      | Byte (-128 to 127)|\n",
        "| ``int16``     | Integer (-32768 to 32767)|\n",
        "| ``int32``     | Integer (-2147483648 to 2147483647)|\n",
        "| ``int64``     | Integer (-9223372036854775808 to 9223372036854775807)|\n",
        "| ``uint8``     | Unsigned integer (0 to 255)|\n",
        "| ``uint16``    | Unsigned integer (0 to 65535)|\n",
        "| ``uint32``    | Unsigned integer (0 to 4294967295)|\n",
        "| ``uint64``    | Unsigned integer (0 to 18446744073709551615)|\n",
        "| ``float_``    | Shorthand for ``float64``.|\n",
        "| ``float16``   | Half precision float: sign bit, 5 bits exponent, 10 bits mantissa|\n",
        "| ``float32``   | Single precision float: sign bit, 8 bits exponent, 23 bits mantissa|\n",
        "| ``float64``   | Double precision float: sign bit, 11 bits exponent, 52 bits mantissa|\n",
        "| ``complex_``  | Shorthand for ``complex128``.|\n",
        "| ``complex64`` | Complex number, represented by two 32-bit floats|\n",
        "| ``complex128``| Complex number, represented by two 64-bit floats|"
      ],
      "metadata": {
        "id": "u_I8bUh0oLpk"
      }
    },
    {
      "cell_type": "code",
      "source": [
        "x2 = np.random.randint(50, size=(2,3,4)) #(depth,row,col)\n",
        "np.random.seed(0)\n",
        "x2"
      ],
      "metadata": {
        "colab": {
          "base_uri": "https://localhost:8080/"
        },
        "id": "ni12rsZOoNSx",
        "outputId": "4070290b-93cf-4615-f337-d3929c025e27"
      },
      "execution_count": null,
      "outputs": [
        {
          "output_type": "execute_result",
          "data": {
            "text/plain": [
              "array([[[44, 47,  0,  3],\n",
              "        [ 3, 39,  9, 19],\n",
              "        [21, 36, 23,  6]],\n",
              "\n",
              "       [[24, 24, 12,  1],\n",
              "        [38, 39, 23, 46],\n",
              "        [24, 17, 37, 25]]])"
            ]
          },
          "metadata": {},
          "execution_count": 128
        }
      ]
    },
    {
      "cell_type": "code",
      "source": [
        "print(\"x2 ndim: \", x2.ndim)\n",
        "print(\"x2 shape:\", x2.shape)\n",
        "print(\"x2 size: \", x2.size)\n",
        "print(\"itemsize:\", x2.itemsize, \"bytes\")\n",
        "print(\"nbytes 24*8:\", x2.nbytes, \"bytes\")"
      ],
      "metadata": {
        "colab": {
          "base_uri": "https://localhost:8080/"
        },
        "id": "r7b7I4S2qu5U",
        "outputId": "2201e382-af60-4f87-dd4a-9dd10abef5ed"
      },
      "execution_count": null,
      "outputs": [
        {
          "output_type": "stream",
          "name": "stdout",
          "text": [
            "x2 ndim:  3\n",
            "x2 shape: (2, 3, 4)\n",
            "x2 size:  24\n",
            "itemsize: 8 bytes\n",
            "nbytes 24*8: 192 bytes\n"
          ]
        }
      ]
    },
    {
      "cell_type": "markdown",
      "source": [
        "**Slicing**"
      ],
      "metadata": {
        "id": "CAa80S0Cs9Fe"
      }
    },
    {
      "cell_type": "code",
      "source": [
        "x= np.arange(10)\n",
        "print(x)\n",
        "print(x[1::2])  # every other element, starting at index 1\n",
        "print(x[::-1])  # all elements, reversed\n",
        "print(x[5::-2])"
      ],
      "metadata": {
        "colab": {
          "base_uri": "https://localhost:8080/"
        },
        "id": "Kz-7Xjnhrejb",
        "outputId": "2b6ebc44-ee83-44d0-b0b5-904a3f421395"
      },
      "execution_count": null,
      "outputs": [
        {
          "output_type": "stream",
          "name": "stdout",
          "text": [
            "[0 1 2 3 4 5 6 7 8 9]\n",
            "[1 3 5 7 9]\n",
            "[9 8 7 6 5 4 3 2 1 0]\n",
            "[5 3 1]\n"
          ]
        }
      ]
    },
    {
      "cell_type": "code",
      "source": [
        "y=np.random.randint(10,size=(3,3))\n",
        "print(y)\n",
        "print()\n",
        "print(y[:2, :3])  # two rows, three columns\n",
        "print()\n",
        "print(y[0:,::-1])\n",
        "print()\n",
        "print(y[1::-1, ::-2])\n",
        "print(y[:, 0])\n",
        "z=y[:2,:2].copy()\n",
        "z"
      ],
      "metadata": {
        "colab": {
          "base_uri": "https://localhost:8080/"
        },
        "id": "msTDTiIpuDU_",
        "outputId": "161d5c5b-10d9-4174-c387-702cab6134b5"
      },
      "execution_count": null,
      "outputs": [
        {
          "output_type": "stream",
          "name": "stdout",
          "text": [
            "[[1 6 8]\n",
            " [8 3 2]\n",
            " [3 6 3]]\n",
            "\n",
            "[[1 6 8]\n",
            " [8 3 2]]\n",
            "\n",
            "[[8 6 1]\n",
            " [2 3 8]\n",
            " [3 6 3]]\n",
            "\n",
            "[[2 8]\n",
            " [8 1]]\n",
            "[1 8 3]\n"
          ]
        },
        {
          "output_type": "execute_result",
          "data": {
            "text/plain": [
              "array([[1, 6],\n",
              "       [8, 3]])"
            ]
          },
          "metadata": {},
          "execution_count": 170
        }
      ]
    },
    {
      "cell_type": "markdown",
      "source": [
        "**Reshaping of Arrays**"
      ],
      "metadata": {
        "id": "sEGdI1ax0j7I"
      }
    },
    {
      "cell_type": "code",
      "source": [
        "grid = np.arange(0, 12).reshape((3, 4))\n",
        "print(grid)\n",
        "x = np.array([1, 2, 3])\n",
        "print(x)\n",
        "# row vector via reshape\n",
        "a=x.reshape((1, 3))\n",
        "print(a)\n",
        "grid.shape\n"
      ],
      "metadata": {
        "colab": {
          "base_uri": "https://localhost:8080/"
        },
        "id": "c79rJyB70jm2",
        "outputId": "dbf46bf7-bc47-4de2-9910-f333736121b7"
      },
      "execution_count": null,
      "outputs": [
        {
          "output_type": "stream",
          "name": "stdout",
          "text": [
            "[[ 0  1  2  3]\n",
            " [ 4  5  6  7]\n",
            " [ 8  9 10 11]]\n",
            "[1 2 3]\n",
            "[[1 2 3]]\n"
          ]
        },
        {
          "output_type": "execute_result",
          "data": {
            "text/plain": [
              "(3, 4)"
            ]
          },
          "metadata": {},
          "execution_count": 187
        }
      ]
    },
    {
      "cell_type": "markdown",
      "source": [
        "**For working with arrays of mixed dimensions, it can be clearer to use the ``np.vstack`` (vertical stack) and ``np.hstack`` (horizontal stack) functions:**"
      ],
      "metadata": {
        "id": "bDrlQ0yU2asA"
      }
    },
    {
      "cell_type": "code",
      "source": [
        "x = np.array([1, 2, 3])\n",
        "grid = np.array([[9, 8, 7],\n",
        "                 [6, 5, 4]])\n",
        "\n",
        "# vertically stack the arrays\n",
        "np.vstack([x, grid])"
      ],
      "metadata": {
        "colab": {
          "base_uri": "https://localhost:8080/"
        },
        "id": "9ND3eDYf2NBw",
        "outputId": "cdf163d9-d358-45d1-a45f-019eadb1ab82"
      },
      "execution_count": null,
      "outputs": [
        {
          "output_type": "execute_result",
          "data": {
            "text/plain": [
              "array([[1, 2, 3],\n",
              "       [9, 8, 7],\n",
              "       [6, 5, 4]])"
            ]
          },
          "metadata": {},
          "execution_count": 190
        }
      ]
    },
    {
      "cell_type": "code",
      "source": [
        "grid = np.array([[9, 8, 7],\n",
        "                 [6, 5, 4]])\n",
        "y=np.array([[73],[74]])\n",
        "np.hstack([grid,y])"
      ],
      "metadata": {
        "colab": {
          "base_uri": "https://localhost:8080/"
        },
        "id": "XiTtDbn12t_4",
        "outputId": "51da0aad-18d6-4c3b-dfb5-348682fcb131"
      },
      "execution_count": null,
      "outputs": [
        {
          "output_type": "execute_result",
          "data": {
            "text/plain": [
              "array([[ 9,  8,  7, 73],\n",
              "       [ 6,  5,  4, 74]])"
            ]
          },
          "metadata": {},
          "execution_count": 199
        }
      ]
    },
    {
      "cell_type": "code",
      "source": [
        "import numpy as np\n",
        "a=np.random.randint(25,size=(2,3,4))\n",
        "b=np.random.randint(50,size=(2,3,4))\n",
        "np.random.seed(0)\n",
        "# print(a)\n",
        "# print(b)\n",
        "print()\n",
        "c=np.dstack([a,b])\n",
        "print(c)"
      ],
      "metadata": {
        "colab": {
          "base_uri": "https://localhost:8080/"
        },
        "id": "Y8tr_h5j4yog",
        "outputId": "d3830d8a-0a52-4310-d71b-8ffb78ab91d9"
      },
      "execution_count": null,
      "outputs": [
        {
          "output_type": "stream",
          "name": "stdout",
          "text": [
            "\n",
            "[[[12 15 21  0 37 25 13  8]\n",
            "  [ 3  3  7  9  9 20 16  5]\n",
            "  [19 21 18  4 15 47  0 18]]\n",
            "\n",
            " [[23  6 24 24 35 24 49 29]\n",
            "  [12  1  6  7 19 19 14 39]\n",
            "  [23 14 24 17 32  1  9 32]]]\n"
          ]
        }
      ]
    },
    {
      "cell_type": "markdown",
      "source": [
        "#Splitting of arrays\n",
        "\n"
      ],
      "metadata": {
        "id": "SZezkA-J7TgF"
      }
    },
    {
      "cell_type": "markdown",
      "source": [
        "**The opposite of concatenation is splitting, which is implemented by the functions ``np.split``, ``np.hsplit``, and ``np.vsplit``.  For each of these, we can pass a list of indices giving the split points:**"
      ],
      "metadata": {
        "id": "xFy1ngV_FXXi"
      }
    },
    {
      "cell_type": "code",
      "source": [
        "import numpy as np\n",
        "x = [1, 2, 3, 99, 99, 3, 2, 1]\n",
        "x1, x2, x3, x4 = np.split(x, [3, 5, 7])\n",
        "print(x1, x2, x3, x4)"
      ],
      "metadata": {
        "colab": {
          "base_uri": "https://localhost:8080/"
        },
        "id": "Lo832_sn7aHf",
        "outputId": "9cdd7ac5-6f6b-477d-8391-82b50c8029e6"
      },
      "execution_count": null,
      "outputs": [
        {
          "output_type": "stream",
          "name": "stdout",
          "text": [
            "[1 2 3] [99 99] [3 2] [1]\n"
          ]
        }
      ]
    },
    {
      "cell_type": "code",
      "source": [
        "import numpy as np\n",
        "b=np.random.randint(50,size=(4,5))\n",
        "np.random.seed(0)\n",
        "print(b)\n",
        "upper,lower=np.vsplit(b,[2])\n",
        "print(\"<---------Vsplit------->\\n\")\n",
        "print(\"--------UPPER-------------------\")\n",
        "print(upper)\n",
        "print(\"--------LOWER-------------------\")\n",
        "print(lower)\n",
        "print()\n",
        "print(\"<---------Hsplit------->\\n\")\n",
        "left,right=np.hsplit(b,[2])\n",
        "print(\"--------LEFT-------------------\")\n",
        "print(left)\n",
        "print(\"--------RIGHT-------------------\")\n",
        "print(right)\n"
      ],
      "metadata": {
        "colab": {
          "base_uri": "https://localhost:8080/"
        },
        "id": "Z2Rm_yMl8_j_",
        "outputId": "6485d34b-0f38-4ef0-b012-7fe2b85390b6"
      },
      "execution_count": null,
      "outputs": [
        {
          "output_type": "stream",
          "name": "stdout",
          "text": [
            "[[44 47  0  3  3]\n",
            " [39  9 19 21 36]\n",
            " [23  6 24 24 12]\n",
            " [ 1 38 39 23 46]]\n",
            "<---------Vsplit------->\n",
            "\n",
            "--------UPPER-------------------\n",
            "[[44 47  0  3  3]\n",
            " [39  9 19 21 36]]\n",
            "--------LOWER-------------------\n",
            "[[23  6 24 24 12]\n",
            " [ 1 38 39 23 46]]\n",
            "\n",
            "<---------Hsplit------->\n",
            "\n",
            "--------LEFT-------------------\n",
            "[[44 47]\n",
            " [39  9]\n",
            " [23  6]\n",
            " [ 1 38]]\n",
            "--------RIGHT-------------------\n",
            "[[ 0  3  3]\n",
            " [19 21 36]\n",
            " [24 24 12]\n",
            " [39 23 46]]\n"
          ]
        }
      ]
    },
    {
      "cell_type": "markdown",
      "source": [
        "# Computation on NumPy Arrays: Universal Functions"
      ],
      "metadata": {
        "id": "cC4NHRjAE_wI"
      }
    },
    {
      "cell_type": "code",
      "source": [
        "import math\n",
        "x=9\n",
        "y=math.sqrt(x)\n",
        "print(y)"
      ],
      "metadata": {
        "colab": {
          "base_uri": "https://localhost:8080/"
        },
        "id": "Zgytow3fFAzE",
        "outputId": "7b06c0f0-2020-474f-a1ac-bca6f9ba2483"
      },
      "execution_count": null,
      "outputs": [
        {
          "output_type": "stream",
          "name": "stdout",
          "text": [
            "3.0\n"
          ]
        }
      ]
    },
    {
      "cell_type": "code",
      "source": [
        "import numpy as np\n",
        "x = np.array([3 - 4j, 4 - 3j, 2 + 0j, 0 + 1j])\n",
        "np.abs(x)"
      ],
      "metadata": {
        "colab": {
          "base_uri": "https://localhost:8080/"
        },
        "id": "L2QAmIbNHbEH",
        "outputId": "dabe6975-38b0-4b2b-8641-334945b2725f"
      },
      "execution_count": null,
      "outputs": [
        {
          "output_type": "execute_result",
          "data": {
            "text/plain": [
              "array([5., 5., 2., 1.])"
            ]
          },
          "metadata": {},
          "execution_count": 3
        }
      ]
    },
    {
      "cell_type": "code",
      "source": [
        "print(np.pi)\n",
        "theta = np.linspace(0, np.pi, 3)\n",
        "print(theta)"
      ],
      "metadata": {
        "colab": {
          "base_uri": "https://localhost:8080/"
        },
        "id": "MfFfkQ2HuCHn",
        "outputId": "47b3b922-d191-4860-9371-9f7db7850534"
      },
      "execution_count": null,
      "outputs": [
        {
          "output_type": "stream",
          "name": "stdout",
          "text": [
            "3.141592653589793\n",
            "[0.         1.57079633 3.14159265]\n"
          ]
        }
      ]
    },
    {
      "cell_type": "code",
      "source": [
        "print(\"theta      = \", theta)\n",
        "print(\"sin(theta) = \", np.sin(theta))\n",
        "print(\"cos(theta) = \", np.cos(theta))\n",
        "print(\"tan(theta) = \", np.tan(theta))\n",
        "print(np.sin(90))"
      ],
      "metadata": {
        "colab": {
          "base_uri": "https://localhost:8080/"
        },
        "id": "-qfi2q9muTx0",
        "outputId": "2f13f63a-89cd-4d00-c509-6f41867823d6"
      },
      "execution_count": null,
      "outputs": [
        {
          "output_type": "stream",
          "name": "stdout",
          "text": [
            "theta      =  [0.         1.57079633 3.14159265]\n",
            "sin(theta) =  [0.0000000e+00 1.0000000e+00 1.2246468e-16]\n",
            "cos(theta) =  [ 1.000000e+00  6.123234e-17 -1.000000e+00]\n",
            "tan(theta) =  [ 0.00000000e+00  1.63312394e+16 -1.22464680e-16]\n",
            "0.8939966636005579\n"
          ]
        }
      ]
    },
    {
      "cell_type": "code",
      "source": [
        "x = [1, 2, 3]\n",
        "print(\"x     =\", x)\n",
        "print(\"e^x   =\", np.exp(x))\n",
        "print(\"2^x   =\", np.exp2(x))\n",
        "print(\"3^x   =\", np.power(3, x))"
      ],
      "metadata": {
        "colab": {
          "base_uri": "https://localhost:8080/"
        },
        "id": "Dw86X4SzuZw2",
        "outputId": "f3061a74-a578-4042-c808-93f8efb9e021"
      },
      "execution_count": null,
      "outputs": [
        {
          "output_type": "stream",
          "name": "stdout",
          "text": [
            "x     = [1, 2, 3]\n",
            "e^x   = [ 2.71828183  7.3890561  20.08553692]\n",
            "2^x   = [2. 4. 8.]\n",
            "3^x   = [ 3  9 27]\n"
          ]
        }
      ]
    },
    {
      "cell_type": "code",
      "source": [
        "x = [1, 2, 4, 10]\n",
        "print(\"x        =\", x)\n",
        "print(\"ln(x)    =\", np.log(x))\n",
        "print(\"log2(x)  =\", np.log2(x))\n",
        "print(\"log10(x) =\", np.log10(x))"
      ],
      "metadata": {
        "colab": {
          "base_uri": "https://localhost:8080/"
        },
        "id": "nDZOKos3urst",
        "outputId": "837b9733-260d-4402-9232-00b47af88839"
      },
      "execution_count": null,
      "outputs": [
        {
          "output_type": "stream",
          "name": "stdout",
          "text": [
            "x        = [1, 2, 4, 10]\n",
            "ln(x)    = [0.         0.69314718 1.38629436 2.30258509]\n",
            "log2(x)  = [0.         1.         2.         3.32192809]\n",
            "log10(x) = [0.         0.30103    0.60205999 1.        ]\n"
          ]
        }
      ]
    },
    {
      "cell_type": "code",
      "source": [
        "x = [0, 0.001, 0.01, 0.1]\n",
        "print(\"exp(x) - 1 =\", np.expm1(x))\n",
        "print(\"log(1 + x) =\", np.log1p(x))"
      ],
      "metadata": {
        "id": "Xav_xY-Su-Yc",
        "outputId": "83f58381-de11-492f-8da0-c5a1987f6229",
        "colab": {
          "base_uri": "https://localhost:8080/"
        }
      },
      "execution_count": null,
      "outputs": [
        {
          "output_type": "stream",
          "name": "stdout",
          "text": [
            "exp(x) - 1 = [0.         0.0010005  0.01005017 0.10517092]\n",
            "log(1 + x) = [0.         0.0009995  0.00995033 0.09531018]\n"
          ]
        }
      ]
    }
  ]
}